{
 "cells": [
  {
   "cell_type": "markdown",
   "metadata": {},
   "source": [
    "\n",
    "Show Spyder how to use."
   ]
  },
  {
   "cell_type": "code",
   "execution_count": 1,
   "metadata": {
    "collapsed": false
   },
   "outputs": [
    {
     "name": "stdout",
     "output_type": "stream",
     "text": [
      "Populating the interactive namespace from numpy and matplotlib\n"
     ]
    }
   ],
   "source": [
    "%pylab inline\n",
    "import numpy as np\n",
    "import seaborn as sns # seaborn"
   ]
  },
  {
   "cell_type": "markdown",
   "metadata": {},
   "source": [
    "Writing text using markdown! Add *emphasis*.\n",
    "\n",
    "Some example equations:\n",
    "\n",
    "$$e = mc^2$$"
   ]
  },
  {
   "cell_type": "markdown",
   "metadata": {},
   "source": [
    "## Stepping stone: import a simple text file into Python"
   ]
  },
  {
   "cell_type": "markdown",
   "metadata": {},
   "source": [
    "## PCA? for visualising in 2D?"
   ]
  },
  {
   "cell_type": "markdown",
   "metadata": {},
   "source": [
    "## Pickle\n"
   ]
  },
  {
   "cell_type": "markdown",
   "metadata": {},
   "source": [
    "## List comprehensions"
   ]
  },
  {
   "cell_type": "markdown",
   "metadata": {},
   "source": [
    "# Distributions\n",
    "\n",
    "**TODO** Take a dataset with continuous response data (e.g. RT). Show plotting distributions (histograms, density plots). Then boxplots. Then fitting a Gaussian (mean/standard deviation). Discussing whether or not that is a good approximation.\n"
   ]
  },
  {
   "cell_type": "code",
   "execution_count": null,
   "metadata": {
    "collapsed": true
   },
   "outputs": [],
   "source": [
    "import pandas as pd\n",
    "\n",
    "pd."
   ]
  },
  {
   "cell_type": "markdown",
   "metadata": {},
   "source": [
    "# Pandas"
   ]
  },
  {
   "cell_type": "code",
   "execution_count": 2,
   "metadata": {
    "collapsed": true
   },
   "outputs": [],
   "source": [
    "import pandas as pd"
   ]
  },
  {
   "cell_type": "markdown",
   "metadata": {},
   "source": [
    "We now look at a subset of data from van der Steen et al (2014) http://journals.plos.org/plosone/article?id=10.1371/journal.pone.0092906. The task is an adaptation of the Beat Alignment Task designed by Iversen & Patel."
   ]
  },
  {
   "cell_type": "code",
   "execution_count": 3,
   "metadata": {
    "collapsed": false
   },
   "outputs": [],
   "source": [
    "beatalign_all = pd.read_csv(\"datasets/beatalign_vanderSteenvanVugt.txt\",sep=\" \")"
   ]
  },
  {
   "cell_type": "code",
   "execution_count": 4,
   "metadata": {
    "collapsed": false
   },
   "outputs": [
    {
     "data": {
      "text/html": [
       "<div>\n",
       "<table border=\"1\" class=\"dataframe\">\n",
       "  <thead>\n",
       "    <tr style=\"text-align: right;\">\n",
       "      <th></th>\n",
       "      <th>PARTICIPANT</th>\n",
       "      <th>BLOCK</th>\n",
       "      <th>TRIAL</th>\n",
       "      <th>EXTRACT</th>\n",
       "      <th>TYPE</th>\n",
       "      <th>RESPONSE</th>\n",
       "    </tr>\n",
       "  </thead>\n",
       "  <tbody>\n",
       "    <tr>\n",
       "      <th>0</th>\n",
       "      <td>c1</td>\n",
       "      <td>train</td>\n",
       "      <td>1</td>\n",
       "      <td>OCJ</td>\n",
       "      <td>aligned</td>\n",
       "      <td>aligned</td>\n",
       "    </tr>\n",
       "    <tr>\n",
       "      <th>1</th>\n",
       "      <td>c1</td>\n",
       "      <td>train</td>\n",
       "      <td>2</td>\n",
       "      <td>NYN</td>\n",
       "      <td>phase-click-late15</td>\n",
       "      <td>misaligned</td>\n",
       "    </tr>\n",
       "    <tr>\n",
       "      <th>2</th>\n",
       "      <td>c1</td>\n",
       "      <td>train</td>\n",
       "      <td>3</td>\n",
       "      <td>NYN</td>\n",
       "      <td>aligned</td>\n",
       "      <td>aligned</td>\n",
       "    </tr>\n",
       "    <tr>\n",
       "      <th>3</th>\n",
       "      <td>c1</td>\n",
       "      <td>train</td>\n",
       "      <td>4</td>\n",
       "      <td>OCJ</td>\n",
       "      <td>phase-click-early15</td>\n",
       "      <td>misaligned</td>\n",
       "    </tr>\n",
       "    <tr>\n",
       "      <th>4</th>\n",
       "      <td>c1</td>\n",
       "      <td>main</td>\n",
       "      <td>1</td>\n",
       "      <td>HTH</td>\n",
       "      <td>phase-click-early10</td>\n",
       "      <td>misaligned</td>\n",
       "    </tr>\n",
       "    <tr>\n",
       "      <th>5</th>\n",
       "      <td>c1</td>\n",
       "      <td>main</td>\n",
       "      <td>2</td>\n",
       "      <td>HTH</td>\n",
       "      <td>aligned</td>\n",
       "      <td>aligned</td>\n",
       "    </tr>\n",
       "    <tr>\n",
       "      <th>6</th>\n",
       "      <td>c1</td>\n",
       "      <td>main</td>\n",
       "      <td>3</td>\n",
       "      <td>ACL</td>\n",
       "      <td>aligned</td>\n",
       "      <td>aligned</td>\n",
       "    </tr>\n",
       "    <tr>\n",
       "      <th>7</th>\n",
       "      <td>c1</td>\n",
       "      <td>main</td>\n",
       "      <td>4</td>\n",
       "      <td>SMA</td>\n",
       "      <td>aligned</td>\n",
       "      <td>aligned</td>\n",
       "    </tr>\n",
       "    <tr>\n",
       "      <th>8</th>\n",
       "      <td>c1</td>\n",
       "      <td>main</td>\n",
       "      <td>5</td>\n",
       "      <td>KPS</td>\n",
       "      <td>phase-click-early15</td>\n",
       "      <td>misaligned</td>\n",
       "    </tr>\n",
       "    <tr>\n",
       "      <th>9</th>\n",
       "      <td>c1</td>\n",
       "      <td>main</td>\n",
       "      <td>6</td>\n",
       "      <td>ACL</td>\n",
       "      <td>phase-click-late10</td>\n",
       "      <td>aligned</td>\n",
       "    </tr>\n",
       "    <tr>\n",
       "      <th>10</th>\n",
       "      <td>c1</td>\n",
       "      <td>main</td>\n",
       "      <td>7</td>\n",
       "      <td>HTH</td>\n",
       "      <td>aligned</td>\n",
       "      <td>aligned</td>\n",
       "    </tr>\n",
       "    <tr>\n",
       "      <th>11</th>\n",
       "      <td>c1</td>\n",
       "      <td>main</td>\n",
       "      <td>8</td>\n",
       "      <td>ACL</td>\n",
       "      <td>aligned</td>\n",
       "      <td>aligned</td>\n",
       "    </tr>\n",
       "    <tr>\n",
       "      <th>12</th>\n",
       "      <td>c1</td>\n",
       "      <td>main</td>\n",
       "      <td>9</td>\n",
       "      <td>ACL</td>\n",
       "      <td>aligned</td>\n",
       "      <td>aligned</td>\n",
       "    </tr>\n",
       "    <tr>\n",
       "      <th>13</th>\n",
       "      <td>c1</td>\n",
       "      <td>main</td>\n",
       "      <td>10</td>\n",
       "      <td>ACL</td>\n",
       "      <td>phase-click-late15</td>\n",
       "      <td>misaligned</td>\n",
       "    </tr>\n",
       "    <tr>\n",
       "      <th>14</th>\n",
       "      <td>c1</td>\n",
       "      <td>main</td>\n",
       "      <td>11</td>\n",
       "      <td>HTH</td>\n",
       "      <td>phase-click-early15</td>\n",
       "      <td>misaligned</td>\n",
       "    </tr>\n",
       "    <tr>\n",
       "      <th>15</th>\n",
       "      <td>c1</td>\n",
       "      <td>main</td>\n",
       "      <td>12</td>\n",
       "      <td>SMA</td>\n",
       "      <td>aligned</td>\n",
       "      <td>aligned</td>\n",
       "    </tr>\n",
       "    <tr>\n",
       "      <th>16</th>\n",
       "      <td>c1</td>\n",
       "      <td>main</td>\n",
       "      <td>13</td>\n",
       "      <td>SMA</td>\n",
       "      <td>phase-click-late15</td>\n",
       "      <td>misaligned</td>\n",
       "    </tr>\n",
       "    <tr>\n",
       "      <th>17</th>\n",
       "      <td>c1</td>\n",
       "      <td>main</td>\n",
       "      <td>14</td>\n",
       "      <td>SMA</td>\n",
       "      <td>phase-click-late10</td>\n",
       "      <td>aligned</td>\n",
       "    </tr>\n",
       "    <tr>\n",
       "      <th>18</th>\n",
       "      <td>c1</td>\n",
       "      <td>main</td>\n",
       "      <td>15</td>\n",
       "      <td>HSG</td>\n",
       "      <td>aligned</td>\n",
       "      <td>aligned</td>\n",
       "    </tr>\n",
       "    <tr>\n",
       "      <th>19</th>\n",
       "      <td>c1</td>\n",
       "      <td>main</td>\n",
       "      <td>16</td>\n",
       "      <td>HTH</td>\n",
       "      <td>phase-click-late15</td>\n",
       "      <td>misaligned</td>\n",
       "    </tr>\n",
       "    <tr>\n",
       "      <th>20</th>\n",
       "      <td>c1</td>\n",
       "      <td>main</td>\n",
       "      <td>17</td>\n",
       "      <td>HSG</td>\n",
       "      <td>aligned</td>\n",
       "      <td>aligned</td>\n",
       "    </tr>\n",
       "    <tr>\n",
       "      <th>21</th>\n",
       "      <td>c1</td>\n",
       "      <td>main</td>\n",
       "      <td>18</td>\n",
       "      <td>HSG</td>\n",
       "      <td>phase-click-late10</td>\n",
       "      <td>misaligned</td>\n",
       "    </tr>\n",
       "    <tr>\n",
       "      <th>22</th>\n",
       "      <td>c1</td>\n",
       "      <td>main</td>\n",
       "      <td>19</td>\n",
       "      <td>HSG</td>\n",
       "      <td>phase-click-early10</td>\n",
       "      <td>misaligned</td>\n",
       "    </tr>\n",
       "    <tr>\n",
       "      <th>23</th>\n",
       "      <td>c1</td>\n",
       "      <td>main</td>\n",
       "      <td>20</td>\n",
       "      <td>HTH</td>\n",
       "      <td>aligned</td>\n",
       "      <td>aligned</td>\n",
       "    </tr>\n",
       "    <tr>\n",
       "      <th>24</th>\n",
       "      <td>c1</td>\n",
       "      <td>main</td>\n",
       "      <td>21</td>\n",
       "      <td>HSG</td>\n",
       "      <td>aligned</td>\n",
       "      <td>aligned</td>\n",
       "    </tr>\n",
       "    <tr>\n",
       "      <th>25</th>\n",
       "      <td>c1</td>\n",
       "      <td>main</td>\n",
       "      <td>22</td>\n",
       "      <td>ACL</td>\n",
       "      <td>phase-click-early15</td>\n",
       "      <td>misaligned</td>\n",
       "    </tr>\n",
       "    <tr>\n",
       "      <th>26</th>\n",
       "      <td>c1</td>\n",
       "      <td>main</td>\n",
       "      <td>23</td>\n",
       "      <td>KPS</td>\n",
       "      <td>aligned</td>\n",
       "      <td>aligned</td>\n",
       "    </tr>\n",
       "    <tr>\n",
       "      <th>27</th>\n",
       "      <td>c1</td>\n",
       "      <td>main</td>\n",
       "      <td>24</td>\n",
       "      <td>SMA</td>\n",
       "      <td>aligned</td>\n",
       "      <td>aligned</td>\n",
       "    </tr>\n",
       "    <tr>\n",
       "      <th>28</th>\n",
       "      <td>c1</td>\n",
       "      <td>main</td>\n",
       "      <td>25</td>\n",
       "      <td>HSG</td>\n",
       "      <td>aligned</td>\n",
       "      <td>aligned</td>\n",
       "    </tr>\n",
       "    <tr>\n",
       "      <th>29</th>\n",
       "      <td>c1</td>\n",
       "      <td>main</td>\n",
       "      <td>26</td>\n",
       "      <td>KPS</td>\n",
       "      <td>aligned</td>\n",
       "      <td>aligned</td>\n",
       "    </tr>\n",
       "    <tr>\n",
       "      <th>...</th>\n",
       "      <td>...</td>\n",
       "      <td>...</td>\n",
       "      <td>...</td>\n",
       "      <td>...</td>\n",
       "      <td>...</td>\n",
       "      <td>...</td>\n",
       "    </tr>\n",
       "    <tr>\n",
       "      <th>718</th>\n",
       "      <td>c24</td>\n",
       "      <td>main</td>\n",
       "      <td>11</td>\n",
       "      <td>HTH</td>\n",
       "      <td>phase-click-late15</td>\n",
       "      <td>misaligned</td>\n",
       "    </tr>\n",
       "    <tr>\n",
       "      <th>719</th>\n",
       "      <td>c24</td>\n",
       "      <td>main</td>\n",
       "      <td>12</td>\n",
       "      <td>HTH</td>\n",
       "      <td>aligned</td>\n",
       "      <td>aligned</td>\n",
       "    </tr>\n",
       "    <tr>\n",
       "      <th>720</th>\n",
       "      <td>c24</td>\n",
       "      <td>main</td>\n",
       "      <td>13</td>\n",
       "      <td>KPS</td>\n",
       "      <td>phase-click-early10</td>\n",
       "      <td>misaligned</td>\n",
       "    </tr>\n",
       "    <tr>\n",
       "      <th>721</th>\n",
       "      <td>c24</td>\n",
       "      <td>main</td>\n",
       "      <td>14</td>\n",
       "      <td>HTH</td>\n",
       "      <td>aligned</td>\n",
       "      <td>aligned</td>\n",
       "    </tr>\n",
       "    <tr>\n",
       "      <th>722</th>\n",
       "      <td>c24</td>\n",
       "      <td>main</td>\n",
       "      <td>15</td>\n",
       "      <td>HSG</td>\n",
       "      <td>aligned</td>\n",
       "      <td>misaligned</td>\n",
       "    </tr>\n",
       "    <tr>\n",
       "      <th>723</th>\n",
       "      <td>c24</td>\n",
       "      <td>main</td>\n",
       "      <td>16</td>\n",
       "      <td>HTH</td>\n",
       "      <td>aligned</td>\n",
       "      <td>aligned</td>\n",
       "    </tr>\n",
       "    <tr>\n",
       "      <th>724</th>\n",
       "      <td>c24</td>\n",
       "      <td>main</td>\n",
       "      <td>17</td>\n",
       "      <td>KPS</td>\n",
       "      <td>phase-click-late15</td>\n",
       "      <td>misaligned</td>\n",
       "    </tr>\n",
       "    <tr>\n",
       "      <th>725</th>\n",
       "      <td>c24</td>\n",
       "      <td>main</td>\n",
       "      <td>18</td>\n",
       "      <td>ACL</td>\n",
       "      <td>aligned</td>\n",
       "      <td>aligned</td>\n",
       "    </tr>\n",
       "    <tr>\n",
       "      <th>726</th>\n",
       "      <td>c24</td>\n",
       "      <td>main</td>\n",
       "      <td>19</td>\n",
       "      <td>HSG</td>\n",
       "      <td>aligned</td>\n",
       "      <td>misaligned</td>\n",
       "    </tr>\n",
       "    <tr>\n",
       "      <th>727</th>\n",
       "      <td>c24</td>\n",
       "      <td>main</td>\n",
       "      <td>20</td>\n",
       "      <td>SMA</td>\n",
       "      <td>phase-click-late10</td>\n",
       "      <td>misaligned</td>\n",
       "    </tr>\n",
       "    <tr>\n",
       "      <th>728</th>\n",
       "      <td>c24</td>\n",
       "      <td>main</td>\n",
       "      <td>21</td>\n",
       "      <td>KPS</td>\n",
       "      <td>phase-click-early15</td>\n",
       "      <td>misaligned</td>\n",
       "    </tr>\n",
       "    <tr>\n",
       "      <th>729</th>\n",
       "      <td>c24</td>\n",
       "      <td>main</td>\n",
       "      <td>22</td>\n",
       "      <td>HSG</td>\n",
       "      <td>aligned</td>\n",
       "      <td>aligned</td>\n",
       "    </tr>\n",
       "    <tr>\n",
       "      <th>730</th>\n",
       "      <td>c24</td>\n",
       "      <td>main</td>\n",
       "      <td>23</td>\n",
       "      <td>HTH</td>\n",
       "      <td>phase-click-early15</td>\n",
       "      <td>misaligned</td>\n",
       "    </tr>\n",
       "    <tr>\n",
       "      <th>731</th>\n",
       "      <td>c24</td>\n",
       "      <td>main</td>\n",
       "      <td>24</td>\n",
       "      <td>KPS</td>\n",
       "      <td>phase-click-late10</td>\n",
       "      <td>misaligned</td>\n",
       "    </tr>\n",
       "    <tr>\n",
       "      <th>732</th>\n",
       "      <td>c24</td>\n",
       "      <td>main</td>\n",
       "      <td>25</td>\n",
       "      <td>HSG</td>\n",
       "      <td>phase-click-late15</td>\n",
       "      <td>misaligned</td>\n",
       "    </tr>\n",
       "    <tr>\n",
       "      <th>733</th>\n",
       "      <td>c24</td>\n",
       "      <td>main</td>\n",
       "      <td>26</td>\n",
       "      <td>HTH</td>\n",
       "      <td>phase-click-late10</td>\n",
       "      <td>aligned</td>\n",
       "    </tr>\n",
       "    <tr>\n",
       "      <th>734</th>\n",
       "      <td>c24</td>\n",
       "      <td>main</td>\n",
       "      <td>27</td>\n",
       "      <td>SMA</td>\n",
       "      <td>aligned</td>\n",
       "      <td>misaligned</td>\n",
       "    </tr>\n",
       "    <tr>\n",
       "      <th>735</th>\n",
       "      <td>c24</td>\n",
       "      <td>main</td>\n",
       "      <td>28</td>\n",
       "      <td>HSG</td>\n",
       "      <td>phase-click-early10</td>\n",
       "      <td>misaligned</td>\n",
       "    </tr>\n",
       "    <tr>\n",
       "      <th>736</th>\n",
       "      <td>c24</td>\n",
       "      <td>main</td>\n",
       "      <td>29</td>\n",
       "      <td>ACL</td>\n",
       "      <td>phase-click-late10</td>\n",
       "      <td>aligned</td>\n",
       "    </tr>\n",
       "    <tr>\n",
       "      <th>737</th>\n",
       "      <td>c24</td>\n",
       "      <td>main</td>\n",
       "      <td>30</td>\n",
       "      <td>ACL</td>\n",
       "      <td>phase-click-early15</td>\n",
       "      <td>misaligned</td>\n",
       "    </tr>\n",
       "    <tr>\n",
       "      <th>738</th>\n",
       "      <td>c24</td>\n",
       "      <td>main</td>\n",
       "      <td>31</td>\n",
       "      <td>SMA</td>\n",
       "      <td>phase-click-late15</td>\n",
       "      <td>misaligned</td>\n",
       "    </tr>\n",
       "    <tr>\n",
       "      <th>739</th>\n",
       "      <td>c24</td>\n",
       "      <td>main</td>\n",
       "      <td>32</td>\n",
       "      <td>ACL</td>\n",
       "      <td>phase-click-early10</td>\n",
       "      <td>aligned</td>\n",
       "    </tr>\n",
       "    <tr>\n",
       "      <th>740</th>\n",
       "      <td>c24</td>\n",
       "      <td>main</td>\n",
       "      <td>33</td>\n",
       "      <td>KPS</td>\n",
       "      <td>aligned</td>\n",
       "      <td>aligned</td>\n",
       "    </tr>\n",
       "    <tr>\n",
       "      <th>741</th>\n",
       "      <td>c24</td>\n",
       "      <td>main</td>\n",
       "      <td>34</td>\n",
       "      <td>SMA</td>\n",
       "      <td>aligned</td>\n",
       "      <td>misaligned</td>\n",
       "    </tr>\n",
       "    <tr>\n",
       "      <th>742</th>\n",
       "      <td>c24</td>\n",
       "      <td>main</td>\n",
       "      <td>35</td>\n",
       "      <td>ACL</td>\n",
       "      <td>aligned</td>\n",
       "      <td>aligned</td>\n",
       "    </tr>\n",
       "    <tr>\n",
       "      <th>743</th>\n",
       "      <td>c24</td>\n",
       "      <td>main</td>\n",
       "      <td>36</td>\n",
       "      <td>HSG</td>\n",
       "      <td>aligned</td>\n",
       "      <td>aligned</td>\n",
       "    </tr>\n",
       "    <tr>\n",
       "      <th>744</th>\n",
       "      <td>c24</td>\n",
       "      <td>main</td>\n",
       "      <td>37</td>\n",
       "      <td>SMA</td>\n",
       "      <td>aligned</td>\n",
       "      <td>misaligned</td>\n",
       "    </tr>\n",
       "    <tr>\n",
       "      <th>745</th>\n",
       "      <td>c24</td>\n",
       "      <td>main</td>\n",
       "      <td>38</td>\n",
       "      <td>KPS</td>\n",
       "      <td>aligned</td>\n",
       "      <td>misaligned</td>\n",
       "    </tr>\n",
       "    <tr>\n",
       "      <th>746</th>\n",
       "      <td>c24</td>\n",
       "      <td>main</td>\n",
       "      <td>39</td>\n",
       "      <td>HSG</td>\n",
       "      <td>phase-click-late10</td>\n",
       "      <td>aligned</td>\n",
       "    </tr>\n",
       "    <tr>\n",
       "      <th>747</th>\n",
       "      <td>c24</td>\n",
       "      <td>main</td>\n",
       "      <td>40</td>\n",
       "      <td>ACL</td>\n",
       "      <td>aligned</td>\n",
       "      <td>aligned</td>\n",
       "    </tr>\n",
       "  </tbody>\n",
       "</table>\n",
       "<p>748 rows × 6 columns</p>\n",
       "</div>"
      ],
      "text/plain": [
       "    PARTICIPANT  BLOCK  TRIAL EXTRACT                 TYPE    RESPONSE\n",
       "0            c1  train      1     OCJ              aligned     aligned\n",
       "1            c1  train      2     NYN   phase-click-late15  misaligned\n",
       "2            c1  train      3     NYN              aligned     aligned\n",
       "3            c1  train      4     OCJ  phase-click-early15  misaligned\n",
       "4            c1   main      1     HTH  phase-click-early10  misaligned\n",
       "5            c1   main      2     HTH              aligned     aligned\n",
       "6            c1   main      3     ACL              aligned     aligned\n",
       "7            c1   main      4     SMA              aligned     aligned\n",
       "8            c1   main      5     KPS  phase-click-early15  misaligned\n",
       "9            c1   main      6     ACL   phase-click-late10     aligned\n",
       "10           c1   main      7     HTH              aligned     aligned\n",
       "11           c1   main      8     ACL              aligned     aligned\n",
       "12           c1   main      9     ACL              aligned     aligned\n",
       "13           c1   main     10     ACL   phase-click-late15  misaligned\n",
       "14           c1   main     11     HTH  phase-click-early15  misaligned\n",
       "15           c1   main     12     SMA              aligned     aligned\n",
       "16           c1   main     13     SMA   phase-click-late15  misaligned\n",
       "17           c1   main     14     SMA   phase-click-late10     aligned\n",
       "18           c1   main     15     HSG              aligned     aligned\n",
       "19           c1   main     16     HTH   phase-click-late15  misaligned\n",
       "20           c1   main     17     HSG              aligned     aligned\n",
       "21           c1   main     18     HSG   phase-click-late10  misaligned\n",
       "22           c1   main     19     HSG  phase-click-early10  misaligned\n",
       "23           c1   main     20     HTH              aligned     aligned\n",
       "24           c1   main     21     HSG              aligned     aligned\n",
       "25           c1   main     22     ACL  phase-click-early15  misaligned\n",
       "26           c1   main     23     KPS              aligned     aligned\n",
       "27           c1   main     24     SMA              aligned     aligned\n",
       "28           c1   main     25     HSG              aligned     aligned\n",
       "29           c1   main     26     KPS              aligned     aligned\n",
       "..          ...    ...    ...     ...                  ...         ...\n",
       "718         c24   main     11     HTH   phase-click-late15  misaligned\n",
       "719         c24   main     12     HTH              aligned     aligned\n",
       "720         c24   main     13     KPS  phase-click-early10  misaligned\n",
       "721         c24   main     14     HTH              aligned     aligned\n",
       "722         c24   main     15     HSG              aligned  misaligned\n",
       "723         c24   main     16     HTH              aligned     aligned\n",
       "724         c24   main     17     KPS   phase-click-late15  misaligned\n",
       "725         c24   main     18     ACL              aligned     aligned\n",
       "726         c24   main     19     HSG              aligned  misaligned\n",
       "727         c24   main     20     SMA   phase-click-late10  misaligned\n",
       "728         c24   main     21     KPS  phase-click-early15  misaligned\n",
       "729         c24   main     22     HSG              aligned     aligned\n",
       "730         c24   main     23     HTH  phase-click-early15  misaligned\n",
       "731         c24   main     24     KPS   phase-click-late10  misaligned\n",
       "732         c24   main     25     HSG   phase-click-late15  misaligned\n",
       "733         c24   main     26     HTH   phase-click-late10     aligned\n",
       "734         c24   main     27     SMA              aligned  misaligned\n",
       "735         c24   main     28     HSG  phase-click-early10  misaligned\n",
       "736         c24   main     29     ACL   phase-click-late10     aligned\n",
       "737         c24   main     30     ACL  phase-click-early15  misaligned\n",
       "738         c24   main     31     SMA   phase-click-late15  misaligned\n",
       "739         c24   main     32     ACL  phase-click-early10     aligned\n",
       "740         c24   main     33     KPS              aligned     aligned\n",
       "741         c24   main     34     SMA              aligned  misaligned\n",
       "742         c24   main     35     ACL              aligned     aligned\n",
       "743         c24   main     36     HSG              aligned     aligned\n",
       "744         c24   main     37     SMA              aligned  misaligned\n",
       "745         c24   main     38     KPS              aligned  misaligned\n",
       "746         c24   main     39     HSG   phase-click-late10     aligned\n",
       "747         c24   main     40     ACL              aligned     aligned\n",
       "\n",
       "[748 rows x 6 columns]"
      ]
     },
     "execution_count": 4,
     "metadata": {},
     "output_type": "execute_result"
    }
   ],
   "source": [
    "beatalign_all"
   ]
  },
  {
   "cell_type": "markdown",
   "metadata": {},
   "source": [
    "**TODO** Explain list comprehensions in more detail before the next line."
   ]
  },
  {
   "cell_type": "code",
   "execution_count": 5,
   "metadata": {
    "collapsed": false
   },
   "outputs": [],
   "source": [
    "beatalign_all[\"correct.response\"] = [ \"aligned\" if row[\"TYPE\"]==\"aligned\" else \"misaligned\" for (i,row) in beatalign_all.iterrows() ]"
   ]
  },
  {
   "cell_type": "code",
   "execution_count": 6,
   "metadata": {
    "collapsed": false
   },
   "outputs": [
    {
     "data": {
      "text/html": [
       "<div>\n",
       "<table border=\"1\" class=\"dataframe\">\n",
       "  <thead>\n",
       "    <tr style=\"text-align: right;\">\n",
       "      <th></th>\n",
       "      <th>PARTICIPANT</th>\n",
       "      <th>BLOCK</th>\n",
       "      <th>TRIAL</th>\n",
       "      <th>EXTRACT</th>\n",
       "      <th>TYPE</th>\n",
       "      <th>RESPONSE</th>\n",
       "      <th>correct.response</th>\n",
       "    </tr>\n",
       "  </thead>\n",
       "  <tbody>\n",
       "    <tr>\n",
       "      <th>0</th>\n",
       "      <td>c1</td>\n",
       "      <td>train</td>\n",
       "      <td>1</td>\n",
       "      <td>OCJ</td>\n",
       "      <td>aligned</td>\n",
       "      <td>aligned</td>\n",
       "      <td>aligned</td>\n",
       "    </tr>\n",
       "    <tr>\n",
       "      <th>1</th>\n",
       "      <td>c1</td>\n",
       "      <td>train</td>\n",
       "      <td>2</td>\n",
       "      <td>NYN</td>\n",
       "      <td>phase-click-late15</td>\n",
       "      <td>misaligned</td>\n",
       "      <td>misaligned</td>\n",
       "    </tr>\n",
       "    <tr>\n",
       "      <th>2</th>\n",
       "      <td>c1</td>\n",
       "      <td>train</td>\n",
       "      <td>3</td>\n",
       "      <td>NYN</td>\n",
       "      <td>aligned</td>\n",
       "      <td>aligned</td>\n",
       "      <td>aligned</td>\n",
       "    </tr>\n",
       "    <tr>\n",
       "      <th>3</th>\n",
       "      <td>c1</td>\n",
       "      <td>train</td>\n",
       "      <td>4</td>\n",
       "      <td>OCJ</td>\n",
       "      <td>phase-click-early15</td>\n",
       "      <td>misaligned</td>\n",
       "      <td>misaligned</td>\n",
       "    </tr>\n",
       "    <tr>\n",
       "      <th>4</th>\n",
       "      <td>c1</td>\n",
       "      <td>main</td>\n",
       "      <td>1</td>\n",
       "      <td>HTH</td>\n",
       "      <td>phase-click-early10</td>\n",
       "      <td>misaligned</td>\n",
       "      <td>misaligned</td>\n",
       "    </tr>\n",
       "  </tbody>\n",
       "</table>\n",
       "</div>"
      ],
      "text/plain": [
       "  PARTICIPANT  BLOCK  TRIAL EXTRACT                 TYPE    RESPONSE  \\\n",
       "0          c1  train      1     OCJ              aligned     aligned   \n",
       "1          c1  train      2     NYN   phase-click-late15  misaligned   \n",
       "2          c1  train      3     NYN              aligned     aligned   \n",
       "3          c1  train      4     OCJ  phase-click-early15  misaligned   \n",
       "4          c1   main      1     HTH  phase-click-early10  misaligned   \n",
       "\n",
       "  correct.response  \n",
       "0          aligned  \n",
       "1       misaligned  \n",
       "2          aligned  \n",
       "3       misaligned  \n",
       "4       misaligned  "
      ]
     },
     "execution_count": 6,
     "metadata": {},
     "output_type": "execute_result"
    }
   ],
   "source": [
    "beatalign_all.head()"
   ]
  },
  {
   "cell_type": "code",
   "execution_count": 7,
   "metadata": {
    "collapsed": false
   },
   "outputs": [],
   "source": [
    "beatalign_all[\"score\"] = beatalign_all[\"RESPONSE\"]==beatalign_all[\"correct.response\"]"
   ]
  },
  {
   "cell_type": "code",
   "execution_count": 8,
   "metadata": {
    "collapsed": false
   },
   "outputs": [
    {
     "data": {
      "text/html": [
       "<div>\n",
       "<table border=\"1\" class=\"dataframe\">\n",
       "  <thead>\n",
       "    <tr style=\"text-align: right;\">\n",
       "      <th></th>\n",
       "      <th>PARTICIPANT</th>\n",
       "      <th>BLOCK</th>\n",
       "      <th>TRIAL</th>\n",
       "      <th>EXTRACT</th>\n",
       "      <th>TYPE</th>\n",
       "      <th>RESPONSE</th>\n",
       "      <th>correct.response</th>\n",
       "      <th>score</th>\n",
       "    </tr>\n",
       "  </thead>\n",
       "  <tbody>\n",
       "    <tr>\n",
       "      <th>0</th>\n",
       "      <td>c1</td>\n",
       "      <td>train</td>\n",
       "      <td>1</td>\n",
       "      <td>OCJ</td>\n",
       "      <td>aligned</td>\n",
       "      <td>aligned</td>\n",
       "      <td>aligned</td>\n",
       "      <td>True</td>\n",
       "    </tr>\n",
       "    <tr>\n",
       "      <th>1</th>\n",
       "      <td>c1</td>\n",
       "      <td>train</td>\n",
       "      <td>2</td>\n",
       "      <td>NYN</td>\n",
       "      <td>phase-click-late15</td>\n",
       "      <td>misaligned</td>\n",
       "      <td>misaligned</td>\n",
       "      <td>True</td>\n",
       "    </tr>\n",
       "    <tr>\n",
       "      <th>2</th>\n",
       "      <td>c1</td>\n",
       "      <td>train</td>\n",
       "      <td>3</td>\n",
       "      <td>NYN</td>\n",
       "      <td>aligned</td>\n",
       "      <td>aligned</td>\n",
       "      <td>aligned</td>\n",
       "      <td>True</td>\n",
       "    </tr>\n",
       "    <tr>\n",
       "      <th>3</th>\n",
       "      <td>c1</td>\n",
       "      <td>train</td>\n",
       "      <td>4</td>\n",
       "      <td>OCJ</td>\n",
       "      <td>phase-click-early15</td>\n",
       "      <td>misaligned</td>\n",
       "      <td>misaligned</td>\n",
       "      <td>True</td>\n",
       "    </tr>\n",
       "    <tr>\n",
       "      <th>4</th>\n",
       "      <td>c1</td>\n",
       "      <td>main</td>\n",
       "      <td>1</td>\n",
       "      <td>HTH</td>\n",
       "      <td>phase-click-early10</td>\n",
       "      <td>misaligned</td>\n",
       "      <td>misaligned</td>\n",
       "      <td>True</td>\n",
       "    </tr>\n",
       "  </tbody>\n",
       "</table>\n",
       "</div>"
      ],
      "text/plain": [
       "  PARTICIPANT  BLOCK  TRIAL EXTRACT                 TYPE    RESPONSE  \\\n",
       "0          c1  train      1     OCJ              aligned     aligned   \n",
       "1          c1  train      2     NYN   phase-click-late15  misaligned   \n",
       "2          c1  train      3     NYN              aligned     aligned   \n",
       "3          c1  train      4     OCJ  phase-click-early15  misaligned   \n",
       "4          c1   main      1     HTH  phase-click-early10  misaligned   \n",
       "\n",
       "  correct.response score  \n",
       "0          aligned  True  \n",
       "1       misaligned  True  \n",
       "2          aligned  True  \n",
       "3       misaligned  True  \n",
       "4       misaligned  True  "
      ]
     },
     "execution_count": 8,
     "metadata": {},
     "output_type": "execute_result"
    }
   ],
   "source": [
    "beatalign_all.head()"
   ]
  },
  {
   "cell_type": "code",
   "execution_count": 9,
   "metadata": {
    "collapsed": false
   },
   "outputs": [
    {
     "data": {
      "text/plain": [
       "0      train\n",
       "1      train\n",
       "2      train\n",
       "3      train\n",
       "4       main\n",
       "5       main\n",
       "6       main\n",
       "7       main\n",
       "8       main\n",
       "9       main\n",
       "10      main\n",
       "11      main\n",
       "12      main\n",
       "13      main\n",
       "14      main\n",
       "15      main\n",
       "16      main\n",
       "17      main\n",
       "18      main\n",
       "19      main\n",
       "20      main\n",
       "21      main\n",
       "22      main\n",
       "23      main\n",
       "24      main\n",
       "25      main\n",
       "26      main\n",
       "27      main\n",
       "28      main\n",
       "29      main\n",
       "       ...  \n",
       "718     main\n",
       "719     main\n",
       "720     main\n",
       "721     main\n",
       "722     main\n",
       "723     main\n",
       "724     main\n",
       "725     main\n",
       "726     main\n",
       "727     main\n",
       "728     main\n",
       "729     main\n",
       "730     main\n",
       "731     main\n",
       "732     main\n",
       "733     main\n",
       "734     main\n",
       "735     main\n",
       "736     main\n",
       "737     main\n",
       "738     main\n",
       "739     main\n",
       "740     main\n",
       "741     main\n",
       "742     main\n",
       "743     main\n",
       "744     main\n",
       "745     main\n",
       "746     main\n",
       "747     main\n",
       "Name: BLOCK, dtype: object"
      ]
     },
     "execution_count": 9,
     "metadata": {},
     "output_type": "execute_result"
    }
   ],
   "source": [
    "beatalign_all[\"BLOCK\"]"
   ]
  },
  {
   "cell_type": "code",
   "execution_count": 10,
   "metadata": {
    "collapsed": false
   },
   "outputs": [
    {
     "data": {
      "text/plain": [
       "0      False\n",
       "1      False\n",
       "2      False\n",
       "3      False\n",
       "4       True\n",
       "5       True\n",
       "6       True\n",
       "7       True\n",
       "8       True\n",
       "9       True\n",
       "10      True\n",
       "11      True\n",
       "12      True\n",
       "13      True\n",
       "14      True\n",
       "15      True\n",
       "16      True\n",
       "17      True\n",
       "18      True\n",
       "19      True\n",
       "20      True\n",
       "21      True\n",
       "22      True\n",
       "23      True\n",
       "24      True\n",
       "25      True\n",
       "26      True\n",
       "27      True\n",
       "28      True\n",
       "29      True\n",
       "       ...  \n",
       "718     True\n",
       "719     True\n",
       "720     True\n",
       "721     True\n",
       "722     True\n",
       "723     True\n",
       "724     True\n",
       "725     True\n",
       "726     True\n",
       "727     True\n",
       "728     True\n",
       "729     True\n",
       "730     True\n",
       "731     True\n",
       "732     True\n",
       "733     True\n",
       "734     True\n",
       "735     True\n",
       "736     True\n",
       "737     True\n",
       "738     True\n",
       "739     True\n",
       "740     True\n",
       "741     True\n",
       "742     True\n",
       "743     True\n",
       "744     True\n",
       "745     True\n",
       "746     True\n",
       "747     True\n",
       "Name: BLOCK, dtype: bool"
      ]
     },
     "execution_count": 10,
     "metadata": {},
     "output_type": "execute_result"
    }
   ],
   "source": [
    "beatalign_all[\"BLOCK\"]==\"main\""
   ]
  },
  {
   "cell_type": "code",
   "execution_count": 11,
   "metadata": {
    "collapsed": false
   },
   "outputs": [],
   "source": [
    "beatalign = beatalign_all[ beatalign_all[\"BLOCK\"]==\"main\" ]"
   ]
  },
  {
   "cell_type": "code",
   "execution_count": 12,
   "metadata": {
    "collapsed": false
   },
   "outputs": [
    {
     "data": {
      "text/html": [
       "<div>\n",
       "<table border=\"1\" class=\"dataframe\">\n",
       "  <thead>\n",
       "    <tr style=\"text-align: right;\">\n",
       "      <th></th>\n",
       "      <th>PARTICIPANT</th>\n",
       "      <th>BLOCK</th>\n",
       "      <th>TRIAL</th>\n",
       "      <th>EXTRACT</th>\n",
       "      <th>TYPE</th>\n",
       "      <th>RESPONSE</th>\n",
       "      <th>correct.response</th>\n",
       "      <th>score</th>\n",
       "    </tr>\n",
       "  </thead>\n",
       "  <tbody>\n",
       "    <tr>\n",
       "      <th>4</th>\n",
       "      <td>c1</td>\n",
       "      <td>main</td>\n",
       "      <td>1</td>\n",
       "      <td>HTH</td>\n",
       "      <td>phase-click-early10</td>\n",
       "      <td>misaligned</td>\n",
       "      <td>misaligned</td>\n",
       "      <td>True</td>\n",
       "    </tr>\n",
       "    <tr>\n",
       "      <th>5</th>\n",
       "      <td>c1</td>\n",
       "      <td>main</td>\n",
       "      <td>2</td>\n",
       "      <td>HTH</td>\n",
       "      <td>aligned</td>\n",
       "      <td>aligned</td>\n",
       "      <td>aligned</td>\n",
       "      <td>True</td>\n",
       "    </tr>\n",
       "    <tr>\n",
       "      <th>6</th>\n",
       "      <td>c1</td>\n",
       "      <td>main</td>\n",
       "      <td>3</td>\n",
       "      <td>ACL</td>\n",
       "      <td>aligned</td>\n",
       "      <td>aligned</td>\n",
       "      <td>aligned</td>\n",
       "      <td>True</td>\n",
       "    </tr>\n",
       "    <tr>\n",
       "      <th>7</th>\n",
       "      <td>c1</td>\n",
       "      <td>main</td>\n",
       "      <td>4</td>\n",
       "      <td>SMA</td>\n",
       "      <td>aligned</td>\n",
       "      <td>aligned</td>\n",
       "      <td>aligned</td>\n",
       "      <td>True</td>\n",
       "    </tr>\n",
       "    <tr>\n",
       "      <th>8</th>\n",
       "      <td>c1</td>\n",
       "      <td>main</td>\n",
       "      <td>5</td>\n",
       "      <td>KPS</td>\n",
       "      <td>phase-click-early15</td>\n",
       "      <td>misaligned</td>\n",
       "      <td>misaligned</td>\n",
       "      <td>True</td>\n",
       "    </tr>\n",
       "    <tr>\n",
       "      <th>9</th>\n",
       "      <td>c1</td>\n",
       "      <td>main</td>\n",
       "      <td>6</td>\n",
       "      <td>ACL</td>\n",
       "      <td>phase-click-late10</td>\n",
       "      <td>aligned</td>\n",
       "      <td>misaligned</td>\n",
       "      <td>False</td>\n",
       "    </tr>\n",
       "    <tr>\n",
       "      <th>10</th>\n",
       "      <td>c1</td>\n",
       "      <td>main</td>\n",
       "      <td>7</td>\n",
       "      <td>HTH</td>\n",
       "      <td>aligned</td>\n",
       "      <td>aligned</td>\n",
       "      <td>aligned</td>\n",
       "      <td>True</td>\n",
       "    </tr>\n",
       "    <tr>\n",
       "      <th>11</th>\n",
       "      <td>c1</td>\n",
       "      <td>main</td>\n",
       "      <td>8</td>\n",
       "      <td>ACL</td>\n",
       "      <td>aligned</td>\n",
       "      <td>aligned</td>\n",
       "      <td>aligned</td>\n",
       "      <td>True</td>\n",
       "    </tr>\n",
       "    <tr>\n",
       "      <th>12</th>\n",
       "      <td>c1</td>\n",
       "      <td>main</td>\n",
       "      <td>9</td>\n",
       "      <td>ACL</td>\n",
       "      <td>aligned</td>\n",
       "      <td>aligned</td>\n",
       "      <td>aligned</td>\n",
       "      <td>True</td>\n",
       "    </tr>\n",
       "    <tr>\n",
       "      <th>13</th>\n",
       "      <td>c1</td>\n",
       "      <td>main</td>\n",
       "      <td>10</td>\n",
       "      <td>ACL</td>\n",
       "      <td>phase-click-late15</td>\n",
       "      <td>misaligned</td>\n",
       "      <td>misaligned</td>\n",
       "      <td>True</td>\n",
       "    </tr>\n",
       "  </tbody>\n",
       "</table>\n",
       "</div>"
      ],
      "text/plain": [
       "   PARTICIPANT BLOCK  TRIAL EXTRACT                 TYPE    RESPONSE  \\\n",
       "4           c1  main      1     HTH  phase-click-early10  misaligned   \n",
       "5           c1  main      2     HTH              aligned     aligned   \n",
       "6           c1  main      3     ACL              aligned     aligned   \n",
       "7           c1  main      4     SMA              aligned     aligned   \n",
       "8           c1  main      5     KPS  phase-click-early15  misaligned   \n",
       "9           c1  main      6     ACL   phase-click-late10     aligned   \n",
       "10          c1  main      7     HTH              aligned     aligned   \n",
       "11          c1  main      8     ACL              aligned     aligned   \n",
       "12          c1  main      9     ACL              aligned     aligned   \n",
       "13          c1  main     10     ACL   phase-click-late15  misaligned   \n",
       "\n",
       "   correct.response  score  \n",
       "4        misaligned   True  \n",
       "5           aligned   True  \n",
       "6           aligned   True  \n",
       "7           aligned   True  \n",
       "8        misaligned   True  \n",
       "9        misaligned  False  \n",
       "10          aligned   True  \n",
       "11          aligned   True  \n",
       "12          aligned   True  \n",
       "13       misaligned   True  "
      ]
     },
     "execution_count": 12,
     "metadata": {},
     "output_type": "execute_result"
    }
   ],
   "source": [
    "beatalign[:10]"
   ]
  },
  {
   "cell_type": "code",
   "execution_count": 13,
   "metadata": {
    "collapsed": false
   },
   "outputs": [
    {
     "data": {
      "text/plain": [
       "<pandas.core.groupby.DataFrameGroupBy object at 0x7f11290f6630>"
      ]
     },
     "execution_count": 13,
     "metadata": {},
     "output_type": "execute_result"
    }
   ],
   "source": [
    "beatalign.groupby([\"TYPE\"])"
   ]
  },
  {
   "cell_type": "code",
   "execution_count": 14,
   "metadata": {
    "collapsed": false
   },
   "outputs": [
    {
     "data": {
      "text/html": [
       "<div>\n",
       "<table border=\"1\" class=\"dataframe\">\n",
       "  <thead>\n",
       "    <tr style=\"text-align: right;\">\n",
       "      <th></th>\n",
       "      <th>score</th>\n",
       "    </tr>\n",
       "    <tr>\n",
       "      <th>TYPE</th>\n",
       "      <th></th>\n",
       "    </tr>\n",
       "  </thead>\n",
       "  <tbody>\n",
       "    <tr>\n",
       "      <th>aligned</th>\n",
       "      <td>0.855882</td>\n",
       "    </tr>\n",
       "    <tr>\n",
       "      <th>phase-click-early10</th>\n",
       "      <td>0.670588</td>\n",
       "    </tr>\n",
       "    <tr>\n",
       "      <th>phase-click-early15</th>\n",
       "      <td>0.905882</td>\n",
       "    </tr>\n",
       "    <tr>\n",
       "      <th>phase-click-late10</th>\n",
       "      <td>0.764706</td>\n",
       "    </tr>\n",
       "    <tr>\n",
       "      <th>phase-click-late15</th>\n",
       "      <td>0.988235</td>\n",
       "    </tr>\n",
       "  </tbody>\n",
       "</table>\n",
       "</div>"
      ],
      "text/plain": [
       "                        score\n",
       "TYPE                         \n",
       "aligned              0.855882\n",
       "phase-click-early10  0.670588\n",
       "phase-click-early15  0.905882\n",
       "phase-click-late10   0.764706\n",
       "phase-click-late15   0.988235"
      ]
     },
     "execution_count": 14,
     "metadata": {},
     "output_type": "execute_result"
    }
   ],
   "source": [
    "beatalign.groupby([\"TYPE\"]).agg({\"score\":np.mean})"
   ]
  },
  {
   "cell_type": "code",
   "execution_count": 15,
   "metadata": {
    "collapsed": false
   },
   "outputs": [
    {
     "data": {
      "text/html": [
       "<div>\n",
       "<table border=\"1\" class=\"dataframe\">\n",
       "  <thead>\n",
       "    <tr style=\"text-align: right;\">\n",
       "      <th></th>\n",
       "      <th>TRIAL</th>\n",
       "      <th>score</th>\n",
       "    </tr>\n",
       "    <tr>\n",
       "      <th>TYPE</th>\n",
       "      <th></th>\n",
       "      <th></th>\n",
       "    </tr>\n",
       "  </thead>\n",
       "  <tbody>\n",
       "    <tr>\n",
       "      <th>aligned</th>\n",
       "      <td>20.011765</td>\n",
       "      <td>0.855882</td>\n",
       "    </tr>\n",
       "    <tr>\n",
       "      <th>phase-click-early10</th>\n",
       "      <td>21.811765</td>\n",
       "      <td>0.670588</td>\n",
       "    </tr>\n",
       "    <tr>\n",
       "      <th>phase-click-early15</th>\n",
       "      <td>17.941176</td>\n",
       "      <td>0.905882</td>\n",
       "    </tr>\n",
       "    <tr>\n",
       "      <th>phase-click-late10</th>\n",
       "      <td>22.529412</td>\n",
       "      <td>0.764706</td>\n",
       "    </tr>\n",
       "    <tr>\n",
       "      <th>phase-click-late15</th>\n",
       "      <td>21.670588</td>\n",
       "      <td>0.988235</td>\n",
       "    </tr>\n",
       "  </tbody>\n",
       "</table>\n",
       "</div>"
      ],
      "text/plain": [
       "                         TRIAL     score\n",
       "TYPE                                    \n",
       "aligned              20.011765  0.855882\n",
       "phase-click-early10  21.811765  0.670588\n",
       "phase-click-early15  17.941176  0.905882\n",
       "phase-click-late10   22.529412  0.764706\n",
       "phase-click-late15   21.670588  0.988235"
      ]
     },
     "execution_count": 15,
     "metadata": {},
     "output_type": "execute_result"
    }
   ],
   "source": [
    "beatalign.groupby([\"TYPE\"]).mean()"
   ]
  },
  {
   "cell_type": "code",
   "execution_count": 16,
   "metadata": {
    "collapsed": false
   },
   "outputs": [
    {
     "data": {
      "text/html": [
       "<div>\n",
       "<table border=\"1\" class=\"dataframe\">\n",
       "  <thead>\n",
       "    <tr style=\"text-align: right;\">\n",
       "      <th></th>\n",
       "      <th>TYPE</th>\n",
       "      <th>score</th>\n",
       "    </tr>\n",
       "  </thead>\n",
       "  <tbody>\n",
       "    <tr>\n",
       "      <th>0</th>\n",
       "      <td>aligned</td>\n",
       "      <td>0.855882</td>\n",
       "    </tr>\n",
       "    <tr>\n",
       "      <th>1</th>\n",
       "      <td>phase-click-early10</td>\n",
       "      <td>0.670588</td>\n",
       "    </tr>\n",
       "    <tr>\n",
       "      <th>2</th>\n",
       "      <td>phase-click-early15</td>\n",
       "      <td>0.905882</td>\n",
       "    </tr>\n",
       "    <tr>\n",
       "      <th>3</th>\n",
       "      <td>phase-click-late10</td>\n",
       "      <td>0.764706</td>\n",
       "    </tr>\n",
       "    <tr>\n",
       "      <th>4</th>\n",
       "      <td>phase-click-late15</td>\n",
       "      <td>0.988235</td>\n",
       "    </tr>\n",
       "  </tbody>\n",
       "</table>\n",
       "</div>"
      ],
      "text/plain": [
       "                  TYPE     score\n",
       "0              aligned  0.855882\n",
       "1  phase-click-early10  0.670588\n",
       "2  phase-click-early15  0.905882\n",
       "3   phase-click-late10  0.764706\n",
       "4   phase-click-late15  0.988235"
      ]
     },
     "execution_count": 16,
     "metadata": {},
     "output_type": "execute_result"
    }
   ],
   "source": [
    "beatalign.groupby([\"TYPE\"]).agg({\"score\":np.mean}).reset_index()"
   ]
  },
  {
   "cell_type": "code",
   "execution_count": 17,
   "metadata": {
    "collapsed": false
   },
   "outputs": [
    {
     "data": {
      "text/html": [
       "<div>\n",
       "<table border=\"1\" class=\"dataframe\">\n",
       "  <thead>\n",
       "    <tr>\n",
       "      <th></th>\n",
       "      <th>TYPE</th>\n",
       "      <th colspan=\"2\" halign=\"left\">score</th>\n",
       "    </tr>\n",
       "    <tr>\n",
       "      <th></th>\n",
       "      <th></th>\n",
       "      <th>mean</th>\n",
       "      <th>std</th>\n",
       "    </tr>\n",
       "  </thead>\n",
       "  <tbody>\n",
       "    <tr>\n",
       "      <th>0</th>\n",
       "      <td>aligned</td>\n",
       "      <td>0.855882</td>\n",
       "      <td>0.351727</td>\n",
       "    </tr>\n",
       "    <tr>\n",
       "      <th>1</th>\n",
       "      <td>phase-click-early10</td>\n",
       "      <td>0.670588</td>\n",
       "      <td>0.472789</td>\n",
       "    </tr>\n",
       "    <tr>\n",
       "      <th>2</th>\n",
       "      <td>phase-click-early15</td>\n",
       "      <td>0.905882</td>\n",
       "      <td>0.293725</td>\n",
       "    </tr>\n",
       "    <tr>\n",
       "      <th>3</th>\n",
       "      <td>phase-click-late10</td>\n",
       "      <td>0.764706</td>\n",
       "      <td>0.426700</td>\n",
       "    </tr>\n",
       "    <tr>\n",
       "      <th>4</th>\n",
       "      <td>phase-click-late15</td>\n",
       "      <td>0.988235</td>\n",
       "      <td>0.108465</td>\n",
       "    </tr>\n",
       "  </tbody>\n",
       "</table>\n",
       "</div>"
      ],
      "text/plain": [
       "                  TYPE     score          \n",
       "                            mean       std\n",
       "0              aligned  0.855882  0.351727\n",
       "1  phase-click-early10  0.670588  0.472789\n",
       "2  phase-click-early15  0.905882  0.293725\n",
       "3   phase-click-late10  0.764706  0.426700\n",
       "4   phase-click-late15  0.988235  0.108465"
      ]
     },
     "execution_count": 17,
     "metadata": {},
     "output_type": "execute_result"
    }
   ],
   "source": [
    "beatalign.groupby([\"TYPE\"]).agg({\"score\":[np.mean,np.std]}).reset_index()"
   ]
  },
  {
   "cell_type": "markdown",
   "metadata": {},
   "source": [
    "**TODO** Show how to iterate through groups."
   ]
  },
  {
   "cell_type": "code",
   "execution_count": 18,
   "metadata": {
    "collapsed": false
   },
   "outputs": [
    {
     "name": "stdout",
     "output_type": "stream",
     "text": [
      "aligned\n",
      "phase-click-early10\n",
      "phase-click-early15\n",
      "phase-click-late10\n",
      "phase-click-late15\n"
     ]
    }
   ],
   "source": [
    "for tp,data in beatalign.groupby([\"TYPE\"]):\n",
    "    print(tp)\n",
    "    # Do something smart with the data here to illustrate why you'd want to iterate in this way"
   ]
  },
  {
   "cell_type": "markdown",
   "metadata": {},
   "source": [
    "**TODO** Iterate through rows"
   ]
  },
  {
   "cell_type": "markdown",
   "metadata": {},
   "source": [
    "## Split-apply-combine\n",
    "You just did it!"
   ]
  },
  {
   "cell_type": "markdown",
   "metadata": {},
   "source": [
    "# Basic plotting\n",
    "Using matplotlib (designed to feel similar to Matlab).\n",
    "\n",
    "**TODO** Point to the website as well, gallery."
   ]
  },
  {
   "cell_type": "code",
   "execution_count": 19,
   "metadata": {
    "collapsed": false
   },
   "outputs": [
    {
     "data": {
      "text/plain": [
       "[<matplotlib.lines.Line2D at 0x7f1129014fd0>]"
      ]
     },
     "execution_count": 19,
     "metadata": {},
     "output_type": "execute_result"
    },
    {
     "data": {
      "image/png": "[encoded data removed]",
      "text/plain": [
       "<matplotlib.figure.Figure at 0x7f11290cbb00>"
      ]
     },
     "metadata": {},
     "output_type": "display_data"
    }
   ],
   "source": [
    "x = [1,2,3]\n",
    "y = [10,20,30]\n",
    "plot(x,y,'o')"
   ]
  },
  {
   "cell_type": "code",
   "execution_count": 20,
   "metadata": {
    "collapsed": false
   },
   "outputs": [
    {
     "data": {
      "text/plain": [
       "(0, 4)"
      ]
     },
     "execution_count": 20,
     "metadata": {},
     "output_type": "execute_result"
    },
    {
     "data": {
      "image/png": "[encoded data removed]",
      "text/plain": [
       "<matplotlib.figure.Figure at 0x7f1129068d30>"
      ]
     },
     "metadata": {},
     "output_type": "display_data"
    }
   ],
   "source": [
    "x = [1,2,3]\n",
    "y = [10,20,30]\n",
    "yerr = [5,8,5]\n",
    "plot(x,y,'o')\n",
    "errorbar(x,y,yerr=yerr)\n",
    "xlabel(\"X\")\n",
    "xlim(0,4)"
   ]
  },
  {
   "cell_type": "code",
   "execution_count": 21,
   "metadata": {
    "collapsed": false
   },
   "outputs": [
    {
     "data": {
      "text/html": [
       "<div>\n",
       "<table border=\"1\" class=\"dataframe\">\n",
       "  <thead>\n",
       "    <tr>\n",
       "      <th></th>\n",
       "      <th>TYPE</th>\n",
       "      <th colspan=\"3\" halign=\"left\">score</th>\n",
       "      <th>se</th>\n",
       "    </tr>\n",
       "    <tr>\n",
       "      <th></th>\n",
       "      <th></th>\n",
       "      <th>mean</th>\n",
       "      <th>std</th>\n",
       "      <th>len</th>\n",
       "      <th></th>\n",
       "    </tr>\n",
       "  </thead>\n",
       "  <tbody>\n",
       "    <tr>\n",
       "      <th>0</th>\n",
       "      <td>aligned</td>\n",
       "      <td>0.855882</td>\n",
       "      <td>0.351727</td>\n",
       "      <td>340</td>\n",
       "      <td>0.019075</td>\n",
       "    </tr>\n",
       "    <tr>\n",
       "      <th>1</th>\n",
       "      <td>phase-click-early10</td>\n",
       "      <td>0.670588</td>\n",
       "      <td>0.472789</td>\n",
       "      <td>85</td>\n",
       "      <td>0.051281</td>\n",
       "    </tr>\n",
       "    <tr>\n",
       "      <th>2</th>\n",
       "      <td>phase-click-early15</td>\n",
       "      <td>0.905882</td>\n",
       "      <td>0.293725</td>\n",
       "      <td>85</td>\n",
       "      <td>0.031859</td>\n",
       "    </tr>\n",
       "    <tr>\n",
       "      <th>3</th>\n",
       "      <td>phase-click-late10</td>\n",
       "      <td>0.764706</td>\n",
       "      <td>0.426700</td>\n",
       "      <td>85</td>\n",
       "      <td>0.046282</td>\n",
       "    </tr>\n",
       "    <tr>\n",
       "      <th>4</th>\n",
       "      <td>phase-click-late15</td>\n",
       "      <td>0.988235</td>\n",
       "      <td>0.108465</td>\n",
       "      <td>85</td>\n",
       "      <td>0.011765</td>\n",
       "    </tr>\n",
       "  </tbody>\n",
       "</table>\n",
       "</div>"
      ],
      "text/plain": [
       "                  TYPE     score                       se\n",
       "                            mean       std  len          \n",
       "0              aligned  0.855882  0.351727  340  0.019075\n",
       "1  phase-click-early10  0.670588  0.472789   85  0.051281\n",
       "2  phase-click-early15  0.905882  0.293725   85  0.031859\n",
       "3   phase-click-late10  0.764706  0.426700   85  0.046282\n",
       "4   phase-click-late15  0.988235  0.108465   85  0.011765"
      ]
     },
     "execution_count": 21,
     "metadata": {},
     "output_type": "execute_result"
    }
   ],
   "source": [
    "summ = beatalign.groupby([\"TYPE\"]).agg({\"score\":[mean,std,len]}).reset_index()\n",
    "summ[\"se\"]=summ[\"score\"][\"std\"]/sqrt(summ[\"score\"][\"len\"])\n",
    "summ"
   ]
  },
  {
   "cell_type": "code",
   "execution_count": 22,
   "metadata": {
    "collapsed": false
   },
   "outputs": [
    {
     "data": {
      "text/plain": [
       "(-1, 5)"
      ]
     },
     "execution_count": 22,
     "metadata": {},
     "output_type": "execute_result"
    },
    {
     "data": {
      "image/png": "[encoded data removed]",
      "text/plain": [
       "<matplotlib.figure.Figure at 0x7f11237fe160>"
      ]
     },
     "metadata": {},
     "output_type": "display_data"
    }
   ],
   "source": [
    "plot(summ[\"score\"][\"mean\"],'o',color=\"blue\")\n",
    "errorbar(summ.index,summ[\"score\"][\"mean\"],yerr=summ[\"se\"],color=\"blue\")\n",
    "xticks(summ.index,summ[\"TYPE\"],rotation=45)\n",
    "xlim(-1,5)"
   ]
  },
  {
   "cell_type": "code",
   "execution_count": 23,
   "metadata": {
    "collapsed": false
   },
   "outputs": [],
   "source": [
    "\n",
    "persubj = beatalign.groupby([\"PARTICIPANT\",\"TYPE\"]).agg({\"score\":[mean]}).reset_index()\n",
    "persubj.columns = persubj.columns.droplevel(1)\n"
   ]
  },
  {
   "cell_type": "code",
   "execution_count": 24,
   "metadata": {
    "collapsed": false
   },
   "outputs": [
    {
     "data": {
      "text/html": [
       "<div>\n",
       "<table border=\"1\" class=\"dataframe\">\n",
       "  <thead>\n",
       "    <tr style=\"text-align: right;\">\n",
       "      <th></th>\n",
       "      <th>PARTICIPANT</th>\n",
       "      <th>TYPE</th>\n",
       "      <th>score</th>\n",
       "    </tr>\n",
       "  </thead>\n",
       "  <tbody>\n",
       "    <tr>\n",
       "      <th>0</th>\n",
       "      <td>c1</td>\n",
       "      <td>aligned</td>\n",
       "      <td>1.0</td>\n",
       "    </tr>\n",
       "    <tr>\n",
       "      <th>1</th>\n",
       "      <td>c1</td>\n",
       "      <td>phase-click-early10</td>\n",
       "      <td>0.6</td>\n",
       "    </tr>\n",
       "    <tr>\n",
       "      <th>2</th>\n",
       "      <td>c1</td>\n",
       "      <td>phase-click-early15</td>\n",
       "      <td>0.8</td>\n",
       "    </tr>\n",
       "    <tr>\n",
       "      <th>3</th>\n",
       "      <td>c1</td>\n",
       "      <td>phase-click-late10</td>\n",
       "      <td>0.6</td>\n",
       "    </tr>\n",
       "    <tr>\n",
       "      <th>4</th>\n",
       "      <td>c1</td>\n",
       "      <td>phase-click-late15</td>\n",
       "      <td>1.0</td>\n",
       "    </tr>\n",
       "  </tbody>\n",
       "</table>\n",
       "</div>"
      ],
      "text/plain": [
       "  PARTICIPANT                 TYPE  score\n",
       "0          c1              aligned    1.0\n",
       "1          c1  phase-click-early10    0.6\n",
       "2          c1  phase-click-early15    0.8\n",
       "3          c1   phase-click-late10    0.6\n",
       "4          c1   phase-click-late15    1.0"
      ]
     },
     "execution_count": 24,
     "metadata": {},
     "output_type": "execute_result"
    }
   ],
   "source": [
    "persubj.head()"
   ]
  },
  {
   "cell_type": "code",
   "execution_count": 25,
   "metadata": {
    "collapsed": false
   },
   "outputs": [
    {
     "data": {
      "text/plain": [
       "<matplotlib.axes._subplots.AxesSubplot at 0x7f112373dcf8>"
      ]
     },
     "execution_count": 25,
     "metadata": {},
     "output_type": "execute_result"
    },
    {
     "data": {
      "image/png": "[encoded data removed]",
      "text/plain": [
       "<matplotlib.figure.Figure at 0x7f11236e0160>"
      ]
     },
     "metadata": {},
     "output_type": "display_data"
    }
   ],
   "source": [
    "sns.boxplot(x=\"TYPE\",y=\"score\",data=persubj)\n"
   ]
  },
  {
   "cell_type": "code",
   "execution_count": 30,
   "metadata": {
    "collapsed": false
   },
   "outputs": [
    {
     "data": {
      "image/png": "[encoded data removed]",
      "text/plain": [
       "<matplotlib.figure.Figure at 0x7f1123769630>"
      ]
     },
     "metadata": {},
     "output_type": "display_data"
    }
   ],
   "source": [
    "ax = sns.barplot(x=\"TYPE\", y=\"score\", data=beatalign)"
   ]
  },
  {
   "cell_type": "markdown",
   "metadata": {},
   "source": [
    "# Basic stats"
   ]
  },
  {
   "cell_type": "markdown",
   "metadata": {},
   "source": [
    "Maybe, because statsmodels is a bit clunky.\n",
    "\n",
    "--> Just mention it but don't go too deeply: pointing out that it exists."
   ]
  },
  {
   "cell_type": "code",
   "execution_count": 29,
   "metadata": {
    "collapsed": true
   },
   "outputs": [],
   "source": [
    "import statsmodels"
   ]
  }
 ],
 "metadata": {
  "kernelspec": {
   "display_name": "Python 3",
   "language": "python",
   "name": "python3"
  },
  "language_info": {
   "codemirror_mode": {
    "name": "ipython",
    "version": 3
   },
   "file_extension": ".py",
   "mimetype": "text/x-python",
   "name": "python",
   "nbconvert_exporter": "python",
   "pygments_lexer": "ipython3",
   "version": "3.5.2"
  }
 },
 "nbformat": 4,
 "nbformat_minor": 1
}
