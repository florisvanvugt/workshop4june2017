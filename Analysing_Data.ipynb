{
 "cells": [
  {
   "cell_type": "markdown",
   "metadata": {},
   "source": [
    "# Analysing Data in Python\n",
    "\n",
    "* In this part of the workshop, we will cover various topics in data analysis in Python. This will make the rest of your Python life much easier.\n",
    "* I will assume that you already know the basics of Python.\n",
    "* We will cover some packages that you may have already heard about such as *numpy*, *matplotlib*, *pandas*.\n",
    "\n",
    "Today's approach:\n",
    "\n",
    "* Quick tutorial on **Spyder**\n",
    "* Now using **Jupyter Notebooks**. \n",
    "   * Combine code with results and descriptions.\n",
    "   * Reproducible research\n",
    "   * Easily allow others to fiddle with your code\n",
    "* You can either download this notebook or just start your own notebook to try things out. If you opt for the latter, you probably do want to sit in a directory where you can access the datasets because our examples are going to be based heavily on them."
   ]
  },
  {
   "cell_type": "markdown",
   "metadata": {},
   "source": [
    "## Using Jupyter Notebooks"
   ]
  },
  {
   "cell_type": "markdown",
   "metadata": {},
   "source": [
    "Everything is a cell!"
   ]
  },
  {
   "cell_type": "markdown",
   "metadata": {},
   "source": [
    "Writing text using markdown. Add *emphasis*.\n",
    "\n",
    "Some example equations:\n",
    "\n",
    "$$e = mc^2$$\n",
    "\n",
    "Or a hyperlink to [mcgill](http://mcgill.ca)."
   ]
  },
  {
   "cell_type": "markdown",
   "metadata": {},
   "source": [
    "**Introducing the dataset**\n",
    "* Demographics\n",
    "* Wave files\n",
    "* Neuroimaging data"
   ]
  },
  {
   "cell_type": "markdown",
   "metadata": {},
   "source": [
    "## Reading Data (Numpy)"
   ]
  },
  {
   "cell_type": "markdown",
   "metadata": {},
   "source": [
    "Explanation of what the dataset is, sounds (play examples) -> analysed spectrally.\n",
    "\n",
    "The dataset we will be using: features of sound files.\n",
    "\n",
    "Features:\n",
    "* hq_mfs\t- high-quefrency mel-frequency spectrum (iDCT-II mfcc[nCoefs:])\n",
    "* lq_mfs\t- low-quefrency mel-frequency spectrum (iDCT-II mfcc[:nCoefs])\n",
    "* mfcc\t- mel-frequency cepstral coefficients >0 (DCT-II of mfs)\n",
    "* mfs \t- mel-frequency spectrum (magnitudes) \n",
    "\n",
    "In each file: 48 mel bands x 65 windows."
   ]
  },
  {
   "cell_type": "code",
   "execution_count": null,
   "metadata": {
    "collapsed": true
   },
   "outputs": [],
   "source": [
    "import numpy as np"
   ]
  },
  {
   "cell_type": "code",
   "execution_count": null,
   "metadata": {
    "collapsed": false
   },
   "outputs": [],
   "source": [
    "#data = np.loadtxt('datasets/features/ambient_000.mfcc',delimiter=\",\")\n",
    "data = np.loadtxt('datasets/features/ambient_000.mfs',delimiter=\",\")"
   ]
  },
  {
   "cell_type": "code",
   "execution_count": null,
   "metadata": {
    "collapsed": false
   },
   "outputs": [],
   "source": [
    "data"
   ]
  },
  {
   "cell_type": "code",
   "execution_count": null,
   "metadata": {
    "collapsed": false
   },
   "outputs": [],
   "source": [
    "data.shape"
   ]
  },
  {
   "cell_type": "code",
   "execution_count": null,
   "metadata": {
    "collapsed": false
   },
   "outputs": [],
   "source": [
    "data[0,:] # select the first row"
   ]
  },
  {
   "cell_type": "code",
   "execution_count": null,
   "metadata": {
    "collapsed": false
   },
   "outputs": [],
   "source": [
    "data[:,-1] # select the last column"
   ]
  },
  {
   "cell_type": "code",
   "execution_count": null,
   "metadata": {
    "collapsed": false
   },
   "outputs": [],
   "source": [
    "data[:10,0] # select the first 10 rows, 1st column"
   ]
  },
  {
   "cell_type": "code",
   "execution_count": null,
   "metadata": {
    "collapsed": false
   },
   "outputs": [],
   "source": [
    "data[:,[1,2]]"
   ]
  },
  {
   "cell_type": "markdown",
   "metadata": {},
   "source": [
    "# Basic plotting\n",
    "Using matplotlib (designed to feel similar to Matlab). https://matplotlib.org/\n",
    "\n",
    "Also has a great gallery of example plots: https://matplotlib.org/gallery.html"
   ]
  },
  {
   "cell_type": "code",
   "execution_count": null,
   "metadata": {
    "collapsed": false
   },
   "outputs": [],
   "source": [
    "%pylab inline \n",
    "# initialises plotting, makes everything available \"in-line\""
   ]
  },
  {
   "cell_type": "code",
   "execution_count": null,
   "metadata": {
    "collapsed": false
   },
   "outputs": [],
   "source": [
    "x = [10,20,30]\n",
    "plot(x,'o')"
   ]
  },
  {
   "cell_type": "code",
   "execution_count": null,
   "metadata": {
    "collapsed": false
   },
   "outputs": [],
   "source": [
    "x = [1,2,3]\n",
    "y = [10,20,30]\n",
    "plot(x,y,'o')"
   ]
  },
  {
   "cell_type": "code",
   "execution_count": null,
   "metadata": {
    "collapsed": false
   },
   "outputs": [],
   "source": [
    "x = [1,2,3]\n",
    "y = [10,20,30]\n",
    "plot(x,y,'o')\n",
    "xlim(0,4)\n",
    "ylim(0,40)"
   ]
  },
  {
   "cell_type": "code",
   "execution_count": null,
   "metadata": {
    "collapsed": false
   },
   "outputs": [],
   "source": [
    "x = [1,2,3]\n",
    "y = [10,20,30]\n",
    "plot(x,y,'o-',color=\"green\")\n",
    "xlim(0,4)\n",
    "ylim(0,40)"
   ]
  },
  {
   "cell_type": "markdown",
   "metadata": {},
   "source": [
    "**EXERCISE** Plot the dots in black and the line in blue."
   ]
  },
  {
   "cell_type": "code",
   "execution_count": null,
   "metadata": {
    "collapsed": false
   },
   "outputs": [],
   "source": [
    "plot(data[0,:]) # plot the spectrum of the first window"
   ]
  },
  {
   "cell_type": "code",
   "execution_count": null,
   "metadata": {
    "collapsed": false
   },
   "outputs": [],
   "source": [
    "plot(log(data[0,:])) # plot the spectrum of the first window"
   ]
  },
  {
   "cell_type": "code",
   "execution_count": null,
   "metadata": {
    "collapsed": true
   },
   "outputs": [],
   "source": [
    "data = log(data) # make everything log-transformed from now on \n",
    "# (usually it is a bad idea to \"re-define\" variables in this way)"
   ]
  },
  {
   "cell_type": "code",
   "execution_count": null,
   "metadata": {
    "collapsed": false
   },
   "outputs": [],
   "source": [
    "plot(data[0,:],label='first') # plot the spectrum of the first window\n",
    "plot(data[-1,:],label='last')# the last window\n",
    "legend()\n",
    "xlabel(\"Frequency bin\")\n",
    "ylabel(\"Spectral content\")"
   ]
  },
  {
   "cell_type": "code",
   "execution_count": null,
   "metadata": {
    "collapsed": false
   },
   "outputs": [],
   "source": [
    "for i in range(data.shape[0]):\n",
    "    plot(data[i,:])"
   ]
  },
  {
   "cell_type": "markdown",
   "metadata": {},
   "source": [
    "**EXERCISE** Plot only the frequency bins 5th to 15th of each spectrum."
   ]
  },
  {
   "cell_type": "markdown",
   "metadata": {},
   "source": [
    "**EXERCISE** Plot the time course of the 8th frequency bin."
   ]
  },
  {
   "cell_type": "markdown",
   "metadata": {},
   "source": [
    "### Subplots"
   ]
  },
  {
   "cell_type": "code",
   "execution_count": null,
   "metadata": {
    "collapsed": false
   },
   "outputs": [],
   "source": [
    "f, axarr = plt.subplots(1, 2, figsize=(7,5.5))\n",
    "axarr[0].plot(data[0,:])\n",
    "axarr[1].plot(data[1,:])\n",
    "tight_layout()"
   ]
  },
  {
   "cell_type": "markdown",
   "metadata": {},
   "source": [
    "### Interactively exploring your data with widgets\n",
    "https://ipywidgets.readthedocs.io/en/latest/"
   ]
  },
  {
   "cell_type": "code",
   "execution_count": null,
   "metadata": {
    "collapsed": true
   },
   "outputs": [],
   "source": [
    "from __future__ import print_function\n",
    "from ipywidgets import interact, interactive, fixed, interact_manual\n",
    "import ipywidgets as widgets"
   ]
  },
  {
   "cell_type": "code",
   "execution_count": null,
   "metadata": {
    "collapsed": false
   },
   "outputs": [],
   "source": [
    "def f(x):\n",
    "    return x+2\n",
    "\n",
    "interact(f, x=10);"
   ]
  },
  {
   "cell_type": "code",
   "execution_count": null,
   "metadata": {
    "collapsed": false
   },
   "outputs": [],
   "source": [
    "def f(x):\n",
    "    plot(data[x,:]) # plot the spectrum of the first window\n",
    "    title(\"t=%i\"%x)\n",
    "\n",
    "interact(f, x=widgets.IntSlider(min=0,max=data.shape[0]-1,step=1,value=10));"
   ]
  },
  {
   "cell_type": "markdown",
   "metadata": {},
   "source": [
    "### Plotting entire matrices\n",
    "It's much easier than it sounds!"
   ]
  },
  {
   "cell_type": "code",
   "execution_count": null,
   "metadata": {
    "collapsed": false
   },
   "outputs": [],
   "source": [
    "amb = np.loadtxt('datasets/features/ambient_000.mfs',delimiter=\",\")\n",
    "imshow(amb,cmap=\"jet\")\n",
    "colorbar()"
   ]
  },
  {
   "cell_type": "code",
   "execution_count": null,
   "metadata": {
    "collapsed": false
   },
   "outputs": [],
   "source": [
    "imshow(log(amb),cmap=\"jet\")\n",
    "colorbar()"
   ]
  },
  {
   "cell_type": "code",
   "execution_count": null,
   "metadata": {
    "collapsed": false
   },
   "outputs": [],
   "source": [
    "imshow(log(amb).T,origin='lower',cmap=\"jet\")\n",
    "colorbar()"
   ]
  },
  {
   "cell_type": "markdown",
   "metadata": {},
   "source": [
    "### Distributions"
   ]
  },
  {
   "cell_type": "code",
   "execution_count": null,
   "metadata": {
    "collapsed": false
   },
   "outputs": [],
   "source": [
    "hist(data[:,8])"
   ]
  },
  {
   "cell_type": "code",
   "execution_count": null,
   "metadata": {
    "collapsed": false
   },
   "outputs": [],
   "source": [
    "mean(data[:,8])"
   ]
  },
  {
   "cell_type": "code",
   "execution_count": null,
   "metadata": {
    "collapsed": false
   },
   "outputs": [],
   "source": [
    "std(data[:,8])"
   ]
  },
  {
   "cell_type": "code",
   "execution_count": null,
   "metadata": {
    "collapsed": false
   },
   "outputs": [],
   "source": [
    "hist(data[:,8])\n",
    "axvline(mean(data[:,8]),color=\"red\")"
   ]
  },
  {
   "cell_type": "markdown",
   "metadata": {},
   "source": [
    "**EXERCISE** Add two lines to mark the mean plus minus standard deviation"
   ]
  },
  {
   "cell_type": "markdown",
   "metadata": {},
   "source": [
    "How much of your data is included within one standard deviation of the mean?"
   ]
  },
  {
   "cell_type": "code",
   "execution_count": null,
   "metadata": {
    "collapsed": false
   },
   "outputs": [],
   "source": [
    "d = data[:,27][:8]\n",
    "m,s = mean(d),std(d)  # mean and std are actually numpy functions but %pylab inline made them accessible"
   ]
  },
  {
   "cell_type": "code",
   "execution_count": null,
   "metadata": {
    "collapsed": false
   },
   "outputs": [],
   "source": [
    "[ x for x in d ]"
   ]
  },
  {
   "cell_type": "code",
   "execution_count": null,
   "metadata": {
    "collapsed": false
   },
   "outputs": [],
   "source": [
    "[ x-m for x in d ]"
   ]
  },
  {
   "cell_type": "code",
   "execution_count": null,
   "metadata": {
    "collapsed": false
   },
   "outputs": [],
   "source": [
    "[ abs(x-m) for x in d ]\n"
   ]
  },
  {
   "cell_type": "code",
   "execution_count": null,
   "metadata": {
    "collapsed": false
   },
   "outputs": [],
   "source": [
    "[ abs(x-m)<s for x in d ]\n"
   ]
  },
  {
   "cell_type": "code",
   "execution_count": null,
   "metadata": {
    "collapsed": false
   },
   "outputs": [],
   "source": [
    "sum([ abs(x-m)<s for x in d ])"
   ]
  },
  {
   "cell_type": "code",
   "execution_count": null,
   "metadata": {
    "collapsed": false
   },
   "outputs": [],
   "source": [
    "sum([ abs(x-m)<s for x in d ])/float(len(d))"
   ]
  },
  {
   "cell_type": "markdown",
   "metadata": {},
   "source": [
    "**EXERCISE** How much of the data is less than 1 SD *below* the mean? How much above? What do you conclude?"
   ]
  },
  {
   "cell_type": "markdown",
   "metadata": {},
   "source": [
    "### Plotting error bars\n",
    "Now can we plot a nice \"average\" spectrum? With error bars?"
   ]
  },
  {
   "cell_type": "code",
   "execution_count": null,
   "metadata": {
    "collapsed": false
   },
   "outputs": [],
   "source": [
    "mean(data[:,8])"
   ]
  },
  {
   "cell_type": "code",
   "execution_count": null,
   "metadata": {
    "collapsed": false
   },
   "outputs": [],
   "source": [
    "mean(data)"
   ]
  },
  {
   "cell_type": "markdown",
   "metadata": {},
   "source": [
    "That's the overall mean (of the whole 2D matrix). What if we want the marginal means along a particular axis?"
   ]
  },
  {
   "cell_type": "code",
   "execution_count": null,
   "metadata": {
    "collapsed": false
   },
   "outputs": [],
   "source": [
    "mean(data,axis=0)"
   ]
  },
  {
   "cell_type": "code",
   "execution_count": null,
   "metadata": {
    "collapsed": false
   },
   "outputs": [],
   "source": [
    "mean(data,axis=1)"
   ]
  },
  {
   "cell_type": "code",
   "execution_count": null,
   "metadata": {
    "collapsed": false
   },
   "outputs": [],
   "source": [
    "plot(mean(data,axis=0))"
   ]
  },
  {
   "cell_type": "code",
   "execution_count": null,
   "metadata": {
    "collapsed": false
   },
   "outputs": [],
   "source": [
    "x    = [1,2,3]\n",
    "y    = [10,20,30]\n",
    "yerr = [5,8,5]\n",
    "#plot(x,y,'o')\n",
    "errorbar(x,y,yerr=yerr)\n",
    "xlabel(\"X\")\n",
    "xlim(0,4)"
   ]
  },
  {
   "cell_type": "code",
   "execution_count": null,
   "metadata": {
    "collapsed": false
   },
   "outputs": [],
   "source": [
    "errorbar(range(data.shape[1]),mean(data,axis=0),yerr=std(data,axis=0))\n",
    "xlabel(\"frequency bin\")\n",
    "ylabel(\"spectrum\")\n",
    "#xlim(0,15)"
   ]
  },
  {
   "cell_type": "code",
   "execution_count": null,
   "metadata": {
    "collapsed": true
   },
   "outputs": [],
   "source": [
    "amb1 = log(np.loadtxt('datasets/features/ambient_000.mfs',delimiter=\",\"))\n",
    "amb2 = log(np.loadtxt('datasets/features/ambient_001.mfs',delimiter=\",\"))\n",
    "sym1 = log(np.loadtxt('datasets/features/symphonic_000.mfs',delimiter=\",\"))\n",
    "sym2 = log(np.loadtxt('datasets/features/symphonic_001.mfs',delimiter=\",\"))\n"
   ]
  },
  {
   "cell_type": "code",
   "execution_count": null,
   "metadata": {
    "collapsed": false
   },
   "outputs": [],
   "source": [
    "errorbar(range(amb1.shape[1]),mean(amb1,axis=0),yerr=std(amb1,axis=0),label='amb1')\n",
    "errorbar(range(amb2.shape[1]),mean(amb2,axis=0),yerr=std(amb1,axis=0),label='amb2')\n",
    "errorbar(range(sym1.shape[1]),mean(sym1,axis=0),yerr=std(sym1,axis=0),label='sym1')\n",
    "errorbar(range(sym2.shape[1]),mean(sym2,axis=0),yerr=std(sym2,axis=0),label='sym2')\n",
    "legend()\n",
    "xlabel(\"frequency bin\")\n",
    "ylabel(\"spectrum\")\n",
    "xlim(0,15)"
   ]
  },
  {
   "cell_type": "markdown",
   "metadata": {},
   "source": [
    "Ugly though! Time for using loops!"
   ]
  },
  {
   "cell_type": "code",
   "execution_count": null,
   "metadata": {
    "collapsed": false
   },
   "outputs": [],
   "source": [
    "datasets = {}\n",
    "for ds in [\"ambient_000\",\"ambient_001\",\"ambient_002\",\"ambient_003\",\"ambient_004\",\n",
    "           \"symphonic_000\",\"symphonic_001\",\"symphonic_002\",\"symphonic_003\",\"symphonic_004\"]:\n",
    "    datasets[ds]=log(np.loadtxt('datasets/features/%s.mfs'%ds,delimiter=\",\"))"
   ]
  },
  {
   "cell_type": "markdown",
   "metadata": {},
   "source": [
    "**EXERCISE** Can you further simplify the loop above, knowing that for any genre you always have five files (000,001,002 etc)?"
   ]
  },
  {
   "cell_type": "code",
   "execution_count": null,
   "metadata": {
    "collapsed": true
   },
   "outputs": [],
   "source": [
    "datasets = []\n",
    "for ds in [\"ambient_000\",\"ambient_001\",\"ambient_002\",\"ambient_003\",\"ambient_004\",\n",
    "           \"symphonic_000\",\"symphonic_001\",\"symphonic_002\",\"symphonic_003\",\"symphonic_004\"]:\n",
    "    datasets.append( (ds,log(np.loadtxt('datasets/features/%s.mfs'%ds,delimiter=\",\"))) )"
   ]
  },
  {
   "cell_type": "code",
   "execution_count": null,
   "metadata": {
    "collapsed": false
   },
   "outputs": [],
   "source": [
    "for ds,dat in datasets:\n",
    "    errorbar(range(dat.shape[1]),mean(dat,axis=0),yerr=std(dat,axis=0),label=ds)\n",
    "xlim(0,15)\n",
    "legend()"
   ]
  },
  {
   "cell_type": "code",
   "execution_count": null,
   "metadata": {
    "collapsed": true
   },
   "outputs": [],
   "source": [
    "datasets = []\n",
    "for ds in [\"ambient\",\"symphonic\"]:\n",
    "    for i in [\"000\",\"001\",\"002\",\"003\",\"004\"]:\n",
    "        datasets.append( (ds,i,log(np.loadtxt('datasets/features/%s_%s.mfs'%(ds,i),delimiter=\",\")) ))"
   ]
  },
  {
   "cell_type": "code",
   "execution_count": null,
   "metadata": {
    "collapsed": false
   },
   "outputs": [],
   "source": [
    "# datasets"
   ]
  },
  {
   "cell_type": "code",
   "execution_count": null,
   "metadata": {
    "collapsed": false
   },
   "outputs": [],
   "source": [
    "for ds,_,dat in datasets:\n",
    "    errorbar(range(dat.shape[1]),mean(dat,axis=0),yerr=std(dat,axis=0),label=ds)\n",
    "xlim(0,20)\n",
    "legend()"
   ]
  },
  {
   "cell_type": "markdown",
   "metadata": {},
   "source": [
    "Let's pick a particular frequency bin and see if it distinguishes the genres."
   ]
  },
  {
   "cell_type": "code",
   "execution_count": null,
   "metadata": {
    "collapsed": false
   },
   "outputs": [],
   "source": [
    "fq = 8\n",
    "\n",
    "colors = {\"ambient\":\"blue\",\"symphonic\":\"red\"}\n",
    "for i,(ds,_,dat) in enumerate(datasets):\n",
    "    m = mean(dat[:,fq])\n",
    "    plot(m,i,'o',color=colors[ds])\n",
    "    #print(i,m)\n",
    "yticks(range(len(datasets)),[\"%s_%s\"%(ds,i) for ds,i,_ in datasets ])\n",
    "#legend()\n",
    "ylim(-1,10)"
   ]
  },
  {
   "cell_type": "markdown",
   "metadata": {},
   "source": [
    "**EXERCISE** Can you find a frequency bin that distinguishes the genres?"
   ]
  },
  {
   "cell_type": "markdown",
   "metadata": {},
   "source": [
    "**EXERCISE** Can you make this interactive? Create a slider that allows you to select the frequency bin and then show the above figure for that frequency bin."
   ]
  },
  {
   "cell_type": "markdown",
   "metadata": {},
   "source": [
    "## Combining multiple data types (Pandas)"
   ]
  },
  {
   "cell_type": "code",
   "execution_count": null,
   "metadata": {
    "collapsed": false
   },
   "outputs": [],
   "source": [
    "import pandas as pd\n",
    "participants = pd.read_csv('datasets/demographics.csv')"
   ]
  },
  {
   "cell_type": "code",
   "execution_count": null,
   "metadata": {
    "collapsed": false
   },
   "outputs": [],
   "source": [
    "participants"
   ]
  },
  {
   "cell_type": "code",
   "execution_count": null,
   "metadata": {
    "collapsed": false
   },
   "outputs": [],
   "source": [
    "participants.columns"
   ]
  },
  {
   "cell_type": "code",
   "execution_count": null,
   "metadata": {
    "collapsed": false
   },
   "outputs": [],
   "source": [
    "participants[\"gender\"]"
   ]
  },
  {
   "cell_type": "code",
   "execution_count": null,
   "metadata": {
    "collapsed": false
   },
   "outputs": [],
   "source": [
    "participants[\"gender\"]==\"f\""
   ]
  },
  {
   "cell_type": "markdown",
   "metadata": {},
   "source": [
    "**EXERCISE** How many participants are male? (Let Python do the counting)"
   ]
  },
  {
   "cell_type": "code",
   "execution_count": null,
   "metadata": {
    "collapsed": false
   },
   "outputs": [],
   "source": [
    "participants[ participants[\"gender\"]==\"f\" ]"
   ]
  },
  {
   "cell_type": "code",
   "execution_count": null,
   "metadata": {
    "collapsed": false
   },
   "outputs": [],
   "source": [
    "participants.groupby([\"age\"])"
   ]
  },
  {
   "cell_type": "code",
   "execution_count": null,
   "metadata": {
    "collapsed": false
   },
   "outputs": [],
   "source": [
    "participants.groupby([\"age\"])[\"english_comprehend\"].mean()"
   ]
  },
  {
   "cell_type": "code",
   "execution_count": null,
   "metadata": {
    "collapsed": false
   },
   "outputs": [],
   "source": [
    "participants.groupby([\"age\"]).agg({\"english_comprehend\":mean})"
   ]
  },
  {
   "cell_type": "code",
   "execution_count": null,
   "metadata": {
    "collapsed": false
   },
   "outputs": [],
   "source": [
    "participants.groupby([\"age\"]).agg({\"english_comprehend\":[mean,std]})"
   ]
  },
  {
   "cell_type": "markdown",
   "metadata": {},
   "source": [
    "**EXERCISE** Compute the standard errors for English comprehension for each age group."
   ]
  },
  {
   "cell_type": "code",
   "execution_count": null,
   "metadata": {
    "collapsed": true
   },
   "outputs": [],
   "source": [
    "import seaborn as sns"
   ]
  },
  {
   "cell_type": "code",
   "execution_count": null,
   "metadata": {
    "collapsed": false
   },
   "outputs": [],
   "source": [
    "ax = sns.countplot(x=\"hearing_problems_past\", data=participants)"
   ]
  },
  {
   "cell_type": "code",
   "execution_count": null,
   "metadata": {
    "collapsed": false
   },
   "outputs": [],
   "source": [
    "ax = sns.countplot(x=\"musician\", data=participants)"
   ]
  },
  {
   "cell_type": "code",
   "execution_count": null,
   "metadata": {
    "collapsed": false
   },
   "outputs": [],
   "source": [
    "ax = sns.countplot(x=\"age\", hue=\"musician\", data=participants)"
   ]
  },
  {
   "cell_type": "code",
   "execution_count": null,
   "metadata": {
    "collapsed": false
   },
   "outputs": [],
   "source": [
    "ax = sns.countplot(x=\"gender\", hue=\"handedness\", data=participants)"
   ]
  },
  {
   "cell_type": "code",
   "execution_count": null,
   "metadata": {
    "collapsed": false
   },
   "outputs": [],
   "source": [
    "# Now we are pretending that absolute pitch is a continuous variable, so we pretend that it makes\n",
    "# sense to compute means, simply for the purpose of presentation here.\n",
    "g = sns.factorplot(x=\"musician\", y=\"melodic_stability\", data=participants, kind=\"bar\") # bars are 95% CI\n",
    "g.set_ylabels(\"absolute pitch rating\")"
   ]
  },
  {
   "cell_type": "code",
   "execution_count": null,
   "metadata": {
    "collapsed": false
   },
   "outputs": [],
   "source": [
    "sns.boxplot(x=\"musician\",y=\"melodic_stability\",data=participants)\n"
   ]
  },
  {
   "cell_type": "code",
   "execution_count": null,
   "metadata": {
    "collapsed": false
   },
   "outputs": [],
   "source": [
    "data[:,1]"
   ]
  },
  {
   "cell_type": "code",
   "execution_count": null,
   "metadata": {
    "collapsed": false
   },
   "outputs": [],
   "source": [
    "sns.distplot(data[:,1])"
   ]
  },
  {
   "cell_type": "markdown",
   "metadata": {},
   "source": [
    "## Pickle\n"
   ]
  },
  {
   "cell_type": "code",
   "execution_count": null,
   "metadata": {
    "collapsed": true
   },
   "outputs": [],
   "source": [
    "import pickle\n",
    "pickle.dump(datasets,open('datasets.pickle','wb'))"
   ]
  },
  {
   "cell_type": "code",
   "execution_count": null,
   "metadata": {
    "collapsed": true
   },
   "outputs": [],
   "source": [
    "reloaded = pickle.load(open('datasets.pickle','rb'))"
   ]
  },
  {
   "cell_type": "code",
   "execution_count": null,
   "metadata": {
    "collapsed": false
   },
   "outputs": [],
   "source": [
    "# reloaded"
   ]
  },
  {
   "cell_type": "markdown",
   "metadata": {},
   "source": [
    "# Basic inferential stats"
   ]
  },
  {
   "cell_type": "markdown",
   "metadata": {},
   "source": [
    "Can be a bit clunky... \n",
    "\n",
    "http://www.statsmodels.org/"
   ]
  },
  {
   "cell_type": "code",
   "execution_count": null,
   "metadata": {
    "collapsed": true
   },
   "outputs": [],
   "source": [
    "import statsmodels"
   ]
  },
  {
   "cell_type": "markdown",
   "metadata": {},
   "source": [
    "# Questions?"
   ]
  }
 ],
 "metadata": {
  "kernelspec": {
   "display_name": "Python 3",
   "language": "python",
   "name": "python3"
  },
  "language_info": {
   "codemirror_mode": {
    "name": "ipython",
    "version": 3
   },
   "file_extension": ".py",
   "mimetype": "text/x-python",
   "name": "python",
   "nbconvert_exporter": "python",
   "pygments_lexer": "ipython3",
   "version": "3.5.2"
  },
  "widgets": {
   "state": {
    "6a5241c193e441fa90b7656dcdec6616": {
     "views": [
      {
       "cell_index": 34
      }
     ]
    },
    "8b28b6d56eb149549157a34c31af6592": {
     "views": [
      {
       "cell_index": 33
      }
     ]
    }
   },
   "version": "1.2.0"
  }
 },
 "nbformat": 4,
 "nbformat_minor": 1
}
